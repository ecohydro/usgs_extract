{
 "cells": [
  {
   "cell_type": "code",
   "execution_count": 1,
   "metadata": {},
   "outputs": [],
   "source": [
    "import glob\n",
    "import os\n",
    "import time\n",
    "from PyPDF2 import PdfReader\n",
    "from multiprocessing import Pool, cpu_count, set_start_method, current_process\n",
    "from pdf2image import convert_from_path\n"
   ]
  },
  {
   "cell_type": "code",
   "execution_count": 2,
   "metadata": {},
   "outputs": [],
   "source": [
    "#| export\n",
    "def batch_process_pdf(pdf_path:str, output_folder:str, batch_size:int=10, debug:bool=False):\n",
    "    num_pages = get_pdf_length(pdf_path)\n",
    "    tasks = [(pdf_path, output_folder, start, min(start + batch_size - 1, num_pages))\n",
    "             for start in range(1, num_pages + 1, batch_size)]\n",
    "\n",
    "    def debug_print(message):\n",
    "        if debug:\n",
    "            print(message)\n",
    "\n",
    "    with Pool(cpu_count()) as pool:\n",
    "        start_time = time.time()\n",
    "        for i, task in enumerate(tasks):\n",
    "            debug_print(f\"Starting batch {i+1}/{len(tasks)}: pages {task[2]} to {task[3]} on process {current_process().name}\")\n",
    "        results = pool.starmap_async(convert_pdf_to_images, tasks)\n",
    "        while not results.ready():\n",
    "            remaining = results._number_left\n",
    "            debug_print(f\"{remaining} tasks remaining. Total elapsed time: {time.time() - start_time:.2f} seconds\")\n",
    "            time.sleep(1)  # Sleep briefly to avoid flooding the output\n",
    "        flat_list = [item for sublist in results.get() for item in sublist]\n",
    "        debug_print(f\"All tasks completed. Total processing time: {time.time() - start_time:.2f} seconds\")\n",
    "    return flat_list"
   ]
  },
  {
   "cell_type": "code",
   "execution_count": 3,
   "metadata": {},
   "outputs": [],
   "source": [
    "#| export\n",
    "def convert_pdf_to_images(pdf_path:str, # Path to the PDF file\n",
    "                          output_folder:str, # Output folder for the images\n",
    "                          start_page:int=None, # Starting page for conversion\n",
    "                          end_page:int=None # Ending page for conversion\n",
    "                          )->list: # List of image paths\n",
    "    # Extract base filename without extension\n",
    "    base_filename = os.path.splitext(os.path.basename(pdf_path))[0]\n",
    "\n",
    "    # Determine conversion parameters based on provided page ranges\n",
    "    if start_page and end_page:\n",
    "        # Convert a specific range of pages\n",
    "        images = convert_from_path(pdf_path, first_page=start_page, last_page=end_page, dpi=300, fmt='png')\n",
    "        start_index = start_page\n",
    "    elif start_page:\n",
    "        # Convert from start_page to the end of the PDF\n",
    "        images = convert_from_path(pdf_path, first_page=start_page, dpi=300, fmt='png')\n",
    "        start_index = start_page\n",
    "    elif end_page:\n",
    "        # Convert from the beginning of the PDF to end_page\n",
    "        images = convert_from_path(pdf_path, last_page=end_page, dpi=300, fmt='png')\n",
    "        start_index = 1\n",
    "    else:\n",
    "        # Convert the entire PDF\n",
    "        images = convert_from_path(pdf_path, dpi=300, fmt='png')\n",
    "        start_index = 1\n",
    "\n",
    "    # List to store image paths\n",
    "    image_paths = []\n",
    "\n",
    "    # Save each page as an image and collect the paths\n",
    "    for i, image in enumerate(images, start=start_index):\n",
    "        image_path = os.path.join(output_folder, f'{base_filename}_page_{i}.png')\n",
    "        image.save(image_path, 'PNG')\n",
    "        image_paths.append(image_path)\n",
    "\n",
    "    return image_paths\n"
   ]
  },
  {
   "cell_type": "code",
   "execution_count": 4,
   "metadata": {},
   "outputs": [],
   "source": [
    "#| export\n",
    "def get_pdf_length(pdf_path:str # Path to the PDF file\n",
    "                   )->int: # Number of pages in the PDF file\n",
    "    \"\"\" Get the number of pages in a PDF file\"\"\"\n",
    "    with open(pdf_path, \"rb\") as file:\n",
    "        pdf = PdfReader(file)\n",
    "        num_pages = len(pdf.pages)\n",
    "    return num_pages"
   ]
  },
  {
   "cell_type": "code",
   "execution_count": 5,
   "metadata": {},
   "outputs": [],
   "source": [
    "#| export\n",
    "input_dir = '../samples'\n",
    "image_dir = '../samples/images'\n",
    "output_dir = '../samples/output'\n",
    "# Use glob to find all PDF files in the directory\n",
    "all_pdf_files = glob.glob(os.path.join(input_dir, '*.pdf'))\n",
    "\n",
    "# Filter out files containing 'sample' in the filename\n",
    "full_pdf_files = [file for file in all_pdf_files if 'sample' not in os.path.basename(file).lower()]"
   ]
  },
  {
   "cell_type": "code",
   "execution_count": 6,
   "metadata": {},
   "outputs": [
    {
     "name": "stdout",
     "output_type": "stream",
     "text": [
      "0 - ../samples/Hall et al., 1911_only data tables.pdf:16\n",
      "1 - ../samples/Lipincott, 1905.pdf:110\n",
      "2 - ../samples/simpson et al., 1929.pdf:323\n",
      "3 - ../samples/BEACH Slides copy.pdf:18\n"
     ]
    },
    {
     "data": {
      "text/plain": [
       "[None, None, None, None]"
      ]
     },
     "execution_count": 6,
     "metadata": {},
     "output_type": "execute_result"
    }
   ],
   "source": [
    "[print(f\"{i} - {file}:{get_pdf_length(file)}\") for i,file in enumerate(full_pdf_files)]"
   ]
  },
  {
   "cell_type": "code",
   "execution_count": 7,
   "metadata": {},
   "outputs": [],
   "source": [
    "#| export\n",
    "set_start_method('spawn')"
   ]
  },
  {
   "cell_type": "code",
   "execution_count": 8,
   "metadata": {},
   "outputs": [
    {
     "name": "stdout",
     "output_type": "stream",
     "text": [
      "16\n"
     ]
    }
   ],
   "source": [
    "print(cpu_count())"
   ]
  },
  {
   "cell_type": "code",
   "execution_count": 9,
   "metadata": {},
   "outputs": [
    {
     "name": "stdout",
     "output_type": "stream",
     "text": [
      "Starting batch 1/2: pages 1 to 10 on process MainProcess\n",
      "Starting batch 2/2: pages 11 to 16 on process MainProcess\n",
      "2 tasks remaining. Total elapsed time: 0.00 seconds\n"
     ]
    },
    {
     "name": "stderr",
     "output_type": "stream",
     "text": [
      "Process SpawnPoolWorker-1:\n",
      "Process SpawnPoolWorker-2:\n",
      "Traceback (most recent call last):\n",
      "Traceback (most recent call last):\n",
      "  File \"/Users/kellycaylor/mambaforge/envs/usgs_extract/lib/python3.10/multiprocessing/process.py\", line 314, in _bootstrap\n",
      "    self.run()\n",
      "  File \"/Users/kellycaylor/mambaforge/envs/usgs_extract/lib/python3.10/multiprocessing/process.py\", line 108, in run\n",
      "    self._target(*self._args, **self._kwargs)\n",
      "  File \"/Users/kellycaylor/mambaforge/envs/usgs_extract/lib/python3.10/multiprocessing/pool.py\", line 114, in worker\n",
      "    task = get()\n",
      "  File \"/Users/kellycaylor/mambaforge/envs/usgs_extract/lib/python3.10/multiprocessing/queues.py\", line 367, in get\n",
      "    return _ForkingPickler.loads(res)\n",
      "AttributeError: Can't get attribute 'convert_pdf_to_images' on <module '__main__' (built-in)>\n",
      "  File \"/Users/kellycaylor/mambaforge/envs/usgs_extract/lib/python3.10/multiprocessing/process.py\", line 314, in _bootstrap\n",
      "    self.run()\n",
      "  File \"/Users/kellycaylor/mambaforge/envs/usgs_extract/lib/python3.10/multiprocessing/process.py\", line 108, in run\n",
      "    self._target(*self._args, **self._kwargs)\n",
      "  File \"/Users/kellycaylor/mambaforge/envs/usgs_extract/lib/python3.10/multiprocessing/pool.py\", line 114, in worker\n",
      "    task = get()\n",
      "  File \"/Users/kellycaylor/mambaforge/envs/usgs_extract/lib/python3.10/multiprocessing/queues.py\", line 367, in get\n",
      "    return _ForkingPickler.loads(res)\n",
      "AttributeError: Can't get attribute 'convert_pdf_to_images' on <module '__main__' (built-in)>\n"
     ]
    },
    {
     "name": "stdout",
     "output_type": "stream",
     "text": [
      "2 tasks remaining. Total elapsed time: 1.01 seconds\n",
      "2 tasks remaining. Total elapsed time: 2.01 seconds\n",
      "2 tasks remaining. Total elapsed time: 3.01 seconds\n",
      "2 tasks remaining. Total elapsed time: 4.02 seconds\n",
      "2 tasks remaining. Total elapsed time: 5.03 seconds\n",
      "2 tasks remaining. Total elapsed time: 6.03 seconds\n",
      "2 tasks remaining. Total elapsed time: 7.03 seconds\n",
      "2 tasks remaining. Total elapsed time: 8.03 seconds\n",
      "2 tasks remaining. Total elapsed time: 9.04 seconds\n",
      "2 tasks remaining. Total elapsed time: 10.04 seconds\n"
     ]
    },
    {
     "ename": "KeyboardInterrupt",
     "evalue": "",
     "output_type": "error",
     "traceback": [
      "\u001b[0;31m---------------------------------------------------------------------------\u001b[0m",
      "\u001b[0;31mKeyboardInterrupt\u001b[0m                         Traceback (most recent call last)",
      "Cell \u001b[0;32mIn[9], line 1\u001b[0m\n\u001b[0;32m----> 1\u001b[0m image_paths \u001b[38;5;241m=\u001b[39m \u001b[43mbatch_process_pdf\u001b[49m\u001b[43m(\u001b[49m\u001b[43mfull_pdf_files\u001b[49m\u001b[43m[\u001b[49m\u001b[38;5;241;43m0\u001b[39;49m\u001b[43m]\u001b[49m\u001b[43m,\u001b[49m\u001b[43m \u001b[49m\u001b[43mimage_dir\u001b[49m\u001b[43m,\u001b[49m\u001b[43m \u001b[49m\u001b[43mbatch_size\u001b[49m\u001b[38;5;241;43m=\u001b[39;49m\u001b[38;5;241;43m10\u001b[39;49m\u001b[43m,\u001b[49m\u001b[43m \u001b[49m\u001b[43mdebug\u001b[49m\u001b[38;5;241;43m=\u001b[39;49m\u001b[38;5;28;43;01mTrue\u001b[39;49;00m\u001b[43m)\u001b[49m\n",
      "Cell \u001b[0;32mIn[2], line 19\u001b[0m, in \u001b[0;36mbatch_process_pdf\u001b[0;34m(pdf_path, output_folder, batch_size, debug)\u001b[0m\n\u001b[1;32m     17\u001b[0m     remaining \u001b[38;5;241m=\u001b[39m results\u001b[38;5;241m.\u001b[39m_number_left\n\u001b[1;32m     18\u001b[0m     debug_print(\u001b[38;5;124mf\u001b[39m\u001b[38;5;124m\"\u001b[39m\u001b[38;5;132;01m{\u001b[39;00mremaining\u001b[38;5;132;01m}\u001b[39;00m\u001b[38;5;124m tasks remaining. Total elapsed time: \u001b[39m\u001b[38;5;132;01m{\u001b[39;00mtime\u001b[38;5;241m.\u001b[39mtime()\u001b[38;5;250m \u001b[39m\u001b[38;5;241m-\u001b[39m\u001b[38;5;250m \u001b[39mstart_time\u001b[38;5;132;01m:\u001b[39;00m\u001b[38;5;124m.2f\u001b[39m\u001b[38;5;132;01m}\u001b[39;00m\u001b[38;5;124m seconds\u001b[39m\u001b[38;5;124m\"\u001b[39m)\n\u001b[0;32m---> 19\u001b[0m     \u001b[43mtime\u001b[49m\u001b[38;5;241;43m.\u001b[39;49m\u001b[43msleep\u001b[49m\u001b[43m(\u001b[49m\u001b[38;5;241;43m1\u001b[39;49m\u001b[43m)\u001b[49m  \u001b[38;5;66;03m# Sleep briefly to avoid flooding the output\u001b[39;00m\n\u001b[1;32m     20\u001b[0m flat_list \u001b[38;5;241m=\u001b[39m [item \u001b[38;5;28;01mfor\u001b[39;00m sublist \u001b[38;5;129;01min\u001b[39;00m results\u001b[38;5;241m.\u001b[39mget() \u001b[38;5;28;01mfor\u001b[39;00m item \u001b[38;5;129;01min\u001b[39;00m sublist]\n\u001b[1;32m     21\u001b[0m debug_print(\u001b[38;5;124mf\u001b[39m\u001b[38;5;124m\"\u001b[39m\u001b[38;5;124mAll tasks completed. Total processing time: \u001b[39m\u001b[38;5;132;01m{\u001b[39;00mtime\u001b[38;5;241m.\u001b[39mtime()\u001b[38;5;250m \u001b[39m\u001b[38;5;241m-\u001b[39m\u001b[38;5;250m \u001b[39mstart_time\u001b[38;5;132;01m:\u001b[39;00m\u001b[38;5;124m.2f\u001b[39m\u001b[38;5;132;01m}\u001b[39;00m\u001b[38;5;124m seconds\u001b[39m\u001b[38;5;124m\"\u001b[39m)\n",
      "\u001b[0;31mKeyboardInterrupt\u001b[0m: "
     ]
    }
   ],
   "source": [
    "image_paths = batch_process_pdf(full_pdf_files[0], image_dir, batch_size=10, debug=True)"
   ]
  },
  {
   "cell_type": "code",
   "execution_count": null,
   "metadata": {},
   "outputs": [],
   "source": [
    "image_paths = batch_process_pdf(full_pdf_files[0], image_dir, 10)\n"
   ]
  }
 ],
 "metadata": {
  "kernelspec": {
   "display_name": "usgs_extract",
   "language": "python",
   "name": "python3"
  },
  "language_info": {
   "codemirror_mode": {
    "name": "ipython",
    "version": 3
   },
   "file_extension": ".py",
   "mimetype": "text/x-python",
   "name": "python",
   "nbconvert_exporter": "python",
   "pygments_lexer": "ipython3",
   "version": "3.10.14"
  }
 },
 "nbformat": 4,
 "nbformat_minor": 2
}
