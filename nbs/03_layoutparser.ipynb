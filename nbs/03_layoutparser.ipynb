{
 "cells": [
  {
   "cell_type": "markdown",
   "metadata": {},
   "source": [
    "Note: As of 4/26/24, [detectron2](https://github.com/facebookresearch/detectron2/issues/5010) needs to be installed with the following command:\n",
    "\n",
    "```\n",
    " python3 -m pip install -U 'git+https://github.com/facebookresearch/detectron2.git@ff53992b1985b63bd3262b5a36167098e3dada02'\n",
    "Collecting git+https://github.com/facebookresearch/detectron2.git@ff53992b1985b63bd3262b5a36167098e3dada02\n",
    "```"
   ]
  },
  {
   "cell_type": "code",
   "execution_count": 1,
   "metadata": {},
   "outputs": [],
   "source": [
    "import os\n",
    "import glob\n",
    "import pdf2image\n",
    "import layoutparser as lp\n",
    "from PIL import Image\n",
    "import sqlite3\n",
    "import cv2"
   ]
  },
  {
   "cell_type": "code",
   "execution_count": 2,
   "metadata": {},
   "outputs": [
    {
     "name": "stdout",
     "output_type": "stream",
     "text": [
      "tensor([1.], device='mps:0')\n",
      "False\n"
     ]
    }
   ],
   "source": [
    "import torch\n",
    "if torch.backends.mps.is_available():\n",
    "    mps_device = torch.device(\"mps\")\n",
    "    x = torch.ones(1, device=mps_device)\n",
    "    print (x)\n",
    "else:\n",
    "    print (\"MPS device not found.\")\n",
    "\n",
    "print(torch.cuda.is_available())"
   ]
  },
  {
   "cell_type": "code",
   "execution_count": null,
   "metadata": {},
   "outputs": [],
   "source": []
  },
  {
   "cell_type": "code",
   "execution_count": 2,
   "metadata": {},
   "outputs": [],
   "source": [
    "image = cv2.imread(\"../samples/sample_01_inline.png\")\n",
    "image = image[..., ::-1]\n",
    "    # Convert the image from BGR (cv2 default loading style)\n",
    "    # to RGB"
   ]
  },
  {
   "cell_type": "markdown",
   "metadata": {},
   "source": [
    "Note: To load the model correctly, you need to follow these steps:\n",
    "\n",
    "1. Run the `Detectron2LayoutModel` command to download the model using this command:\n",
    "``` \n",
    "model = lp.Detectron2LayoutModel(\n",
    "    'lp://PubLayNet/mask_rcnn_X_101_32x8d_FPN_3x/config',\n",
    "    extra_config=[\"MODEL.ROI_HEADS.SCORE_THRESH_TEST\", 0.8],\n",
    "    label_map={0: \"Text\", 1: \"Title\", 2: \"List\", 3:\"Table\", 4:\"Figure\"})\n",
    "```\n",
    "This will exit in an error saying that the `model_final.pth` file is not found. However, the file was downloaded, so you need to do two things still.\n",
    "\n",
    "2. Rename the downloaded file (it will be called `model_final.pth?dl=1`) to `model_final.pth`. This file will be located in the `.torch` directory of your home folder. It's easiest to simply rename it in place. In my case, this required:\n",
    "```\n",
    "> mv ~/.torch/iopath_cache/s/57zjbwv6gh3srry/model_final.pth\\?dl=1 ~/.torch/iopath_cache/s/57zjbwv6gh3srry/model_final.pth\n",
    "```\n",
    "3. Update the model command to find this file directly (otherwise it will try to download the file again):\n",
    "\n",
    "```\n",
    "model = lp.Detectron2LayoutModel('lp://PubLayNet/mask_rcnn_X_101_32x8d_FPN_3x/config',\n",
    "                                 model_path=\"/Users/kellycaylor/.torch/iopath_cache/s/57zjbwv6gh3srry/model_final.pth\",\n",
    "                                 extra_config=[\"MODEL.ROI_HEADS.SCORE_THRESH_TEST\", 0.8],\n",
    "                                 label_map={0: \"Text\", 1: \"Title\", 2: \"List\", 3:\"Table\", 4:\"Figure\"})\n",
    " ```\n",
    "\n",
    " This should now work. \n",
    "\n",
    " WARNING: It can take a _very_ long time to load the model!"
   ]
  },
  {
   "cell_type": "code",
   "execution_count": 8,
   "metadata": {},
   "outputs": [],
   "source": [
    "model = lp.Detectron2LayoutModel('lp://PubLayNet/mask_rcnn_X_101_32x8d_FPN_3x/config',\n",
    "                                 model_path=\"/Users/kellycaylor/.torch/iopath_cache/s/57zjbwv6gh3srry/model_final.pth\",\n",
    "                                 extra_config=[\"MODEL.ROI_HEADS.SCORE_THRESH_TEST\", 0.8],\n",
    "                                 label_map={0: \"Text\", 1: \"Title\", 2: \"List\", 3:\"Table\", 4:\"Figure\"})\n",
    "    # Load the deep layout model from the layoutparser API\n",
    "    # For all the supported model, please check the Model\n",
    "    \n",
    "    # Zoo Page: https://layout-parser.readthedocs.io/en/latest/notes/modelzoo.html"
   ]
  },
  {
   "cell_type": "code",
   "execution_count": null,
   "metadata": {},
   "outputs": [],
   "source": []
  },
  {
   "cell_type": "code",
   "execution_count": null,
   "metadata": {},
   "outputs": [],
   "source": [
    "\n",
    "def initialize_db(db_path):\n",
    "    conn = sqlite3.connect(db_path)\n",
    "    c = conn.cursor()\n",
    "    c.execute('''CREATE TABLE IF NOT EXISTS documents\n",
    "                 (filename TEXT, page_number INTEGER, table_count INTEGER)''')\n",
    "    c.execute('''CREATE TABLE IF NOT EXISTS tables\n",
    "                 (filename TEXT, page_number INTEGER, bbox TEXT, image_path TEXT)''')\n",
    "    conn.commit()\n",
    "    return conn\n"
   ]
  },
  {
   "cell_type": "code",
   "execution_count": null,
   "metadata": {},
   "outputs": [],
   "source": [
    "\n",
    "def convert_pdf_to_images(pdf_path, dpi=200):\n",
    "    return pdf2image.convert_from_path(pdf_path, dpi=dpi)\n"
   ]
  },
  {
   "cell_type": "code",
   "execution_count": null,
   "metadata": {},
   "outputs": [],
   "source": [
    "\n",
    "def detect_tables(images, model):\n",
    "    # Assuming model is a preloaded LayoutLM model or similar\n",
    "    tables = []\n",
    "    for i, img in enumerate(images):\n",
    "        image_pil = Image.fromarray(img)\n",
    "        layout = model.detect(image_pil)\n",
    "        tables.append((i, layout))\n",
    "    return tables\n"
   ]
  },
  {
   "cell_type": "code",
   "execution_count": null,
   "metadata": {},
   "outputs": [],
   "source": [
    "\n",
    "def save_table_images(tables, base_filename, output_dir):\n",
    "    for page_number, layouts in tables:\n",
    "        for idx, bbox in enumerate(layouts):\n",
    "            x, y, w, h = bbox.coordinates\n",
    "            cropped_image = images[page_number].crop((x, y, x + w, y + h))\n",
    "            img_path = os.path.join(output_dir, f\"{base_filename}_page_{page_number}_table_{idx}.png\")\n",
    "            cropped_image.save(img_path)\n",
    "            yield page_number, str(bbox), img_path\n"
   ]
  },
  {
   "cell_type": "code",
   "execution_count": null,
   "metadata": {},
   "outputs": [],
   "source": [
    "\n",
    "def process_files(pdf_files, output_dir, db_conn):\n",
    "    for pdf_file in pdf_files:\n",
    "        base_filename = os.path.basename(pdf_file)\n",
    "        images = convert_pdf_to_images(pdf_file)\n",
    "        tables = detect_tables(images, model)  # model needs to be defined or loaded\n",
    "        table_details = list(save_table_images(tables, base_filename, output_dir))\n",
    "        db_conn.execute('INSERT INTO documents (filename, page_number, table_count) VALUES (?, ?, ?)',\n",
    "                        (base_filename, len(images), len(table_details)))\n",
    "        for page_number, bbox, img_path in table_details:\n",
    "            db_conn.execute('INSERT INTO tables (filename, page_number, bbox, image_path) VALUES (?, ?, ?, ?)',\n",
    "                            (base_filename, page_number, bbox, img_path))\n",
    "        db_conn.commit()\n"
   ]
  },
  {
   "cell_type": "code",
   "execution_count": null,
   "metadata": {},
   "outputs": [],
   "source": [
    "\n",
    "input_dir = '../samples'\n",
    "output_dir = '../samples/output'\n",
    "db_path = '../samples/tables.db'\n",
    "\n",
    "if not os.path.exists(output_dir):\n",
    "    os.makedirs(output_dir)\n"
   ]
  },
  {
   "cell_type": "code",
   "execution_count": null,
   "metadata": {},
   "outputs": [],
   "source": [
    "\n",
    "pdf_files = glob.glob(os.path.join(input_dir, 'sample*.pdf'))\n",
    "db_conn = initialize_db(db_path)\n"
   ]
  },
  {
   "cell_type": "code",
   "execution_count": null,
   "metadata": {},
   "outputs": [],
   "source": [
    "\n",
    "# Load your model here, for example:\n",
    "model = lp.models.LayoutLMv2Model(\"microsoft/layoutlmv2-base-uncased\")\n"
   ]
  },
  {
   "cell_type": "code",
   "execution_count": null,
   "metadata": {},
   "outputs": [],
   "source": [
    "\n",
    "process_files(pdf_files, output_dir, db_conn)"
   ]
  },
  {
   "cell_type": "markdown",
   "metadata": {},
   "source": []
  }
 ],
 "metadata": {
  "kernelspec": {
   "display_name": "usgs_extract",
   "language": "python",
   "name": "python3"
  },
  "language_info": {
   "codemirror_mode": {
    "name": "ipython",
    "version": 3
   },
   "file_extension": ".py",
   "mimetype": "text/x-python",
   "name": "python",
   "nbconvert_exporter": "python",
   "pygments_lexer": "ipython3",
   "version": "3.10.14"
  }
 },
 "nbformat": 4,
 "nbformat_minor": 2
}
