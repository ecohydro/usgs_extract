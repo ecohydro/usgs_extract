{
 "cells": [
  {
   "cell_type": "code",
   "execution_count": 1,
   "metadata": {},
   "outputs": [],
   "source": [
    "import extractable as ex\n",
    "import os\n",
    "import glob"
   ]
  },
  {
   "cell_type": "code",
   "execution_count": 2,
   "metadata": {},
   "outputs": [
    {
     "name": "stdout",
     "output_type": "stream",
     "text": [
      "List of PDF files in the folder:\n",
      "../samples/sample_01_inline.pdf\n",
      "../samples/sample_03_rotated_complex.pdf\n",
      "../samples/sample_02_rotated.pdf\n"
     ]
    }
   ],
   "source": [
    "# Assign the input and output directories. \n",
    "input_dir = '../samples'\n",
    "output_dir = '../samples/output'\n",
    "# Use glob to find all PDF files in the directory\n",
    "pdf_files = glob.glob(os.path.join(input_dir, 'sample*.pdf'))\n",
    "\n",
    "# Print the list of PDF files\n",
    "print(\"List of PDF files in the folder:\")\n",
    "for pdf_file in pdf_files:\n",
    "    print(pdf_file)"
   ]
  },
  {
   "cell_type": "code",
   "execution_count": 3,
   "metadata": {},
   "outputs": [
    {
     "name": "stdout",
     "output_type": "stream",
     "text": [
      "Poppler is already installed.\n"
     ]
    },
    {
     "name": "stderr",
     "output_type": "stream",
     "text": [
      "\u001b[0;92m2024-04-09 14:18:16,033 - Extractor - INFO - [ConvertUsingPDF2image] - Saving image to: /var/folders/bs/x9tn9jz91cv6hb3q6p4djbmw0000gn/T/tmp8f73t10f/sample_01_inline_page_1.jpg\u001b[0m\n",
      "Could not find image processor class in the image processor config or the model config. Loading based on pattern matching with the model's feature extractor configuration.\n",
      "The `max_size` parameter is deprecated and will be removed in v4.26. Please specify in `size['longest_edge'] instead`.\n"
     ]
    }
   ],
   "source": [
    "ex.extract(input_file=pdf_files[0], \n",
    "           output_dir=output_dir, \n",
    "           output_filetype=ex.Filetype.CSV,\n",
    "           mode=ex.Mode.PRESENTATION\n",
    "        )"
   ]
  },
  {
   "cell_type": "code",
   "execution_count": 1,
   "metadata": {},
   "outputs": [],
   "source": [
    "import torch"
   ]
  },
  {
   "cell_type": "code",
   "execution_count": 2,
   "metadata": {},
   "outputs": [
    {
     "data": {
      "text/plain": [
       "False"
      ]
     },
     "execution_count": 2,
     "metadata": {},
     "output_type": "execute_result"
    }
   ],
   "source": [
    "torch.cuda.is_available()"
   ]
  },
  {
   "cell_type": "code",
   "execution_count": null,
   "metadata": {},
   "outputs": [],
   "source": []
  }
 ],
 "metadata": {
  "kernelspec": {
   "display_name": "Python 3",
   "language": "python",
   "name": "python3"
  },
  "language_info": {
   "codemirror_mode": {
    "name": "ipython",
    "version": 3
   },
   "file_extension": ".py",
   "mimetype": "text/x-python",
   "name": "python",
   "nbconvert_exporter": "python",
   "pygments_lexer": "ipython3",
   "version": "3.10.14"
  }
 },
 "nbformat": 4,
 "nbformat_minor": 2
}
