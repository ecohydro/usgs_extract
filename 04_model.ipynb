{
 "cells": [
  {
   "cell_type": "markdown",
   "metadata": {},
   "source": [
    "# model\n",
    "\n",
    "> The TATR model for table extraction and OCR   "
   ]
  },
  {
   "cell_type": "code",
   "execution_count": 1,
   "metadata": {},
   "outputs": [],
   "source": [
    "#| default_exp model"
   ]
  },
  {
   "cell_type": "code",
   "execution_count": 1,
   "metadata": {},
   "outputs": [],
   "source": [
    "from nbdev.showdoc import *\n",
    "from fastcore.test import *\n",
    "from fastcore.utils import *"
   ]
  },
  {
   "cell_type": "code",
   "execution_count": 20,
   "metadata": {},
   "outputs": [],
   "source": [
    "#| export\n",
    "from huggingface_hub import hf_hub_download\n",
    "from transformers import AutoModelForObjectDetection\n",
    "import torch\n",
    "from PIL import Image\n"
   ]
  },
  {
   "cell_type": "code",
   "execution_count": 3,
   "metadata": {},
   "outputs": [
    {
     "name": "stdout",
     "output_type": "stream",
     "text": [
      "cpu\n"
     ]
    }
   ],
   "source": [
    "device = \"cuda\" if torch.cuda.is_available() else \"cpu\"\n",
    "print(device)"
   ]
  },
  {
   "cell_type": "markdown",
   "metadata": {},
   "source": [
    "## Load model\n",
    "\n",
    "Let's pull Table Transformer from hugging face. We're using the \"no_timm\" version, because that's what we say on some other pages..."
   ]
  },
  {
   "cell_type": "code",
   "execution_count": 23,
   "metadata": {},
   "outputs": [],
   "source": [
    "#| export\n",
    "model = AutoModelForObjectDetection.from_pretrained(\"microsoft/table-transformer-detection\", revision=\"no_timm\")\n"
   ]
  },
  {
   "cell_type": "markdown",
   "metadata": {},
   "source": [
    "# Example with an image from the output folder"
   ]
  },
  {
   "cell_type": "code",
   "execution_count": 31,
   "metadata": {},
   "outputs": [],
   "source": [
    "file_path = \"samples/output/Lipincott, 1905_page_49.png\"\n",
    "image = Image.open(file_path).convert(\"RGB\")"
   ]
  },
  {
   "cell_type": "code",
   "execution_count": 24,
   "metadata": {},
   "outputs": [],
   "source": [
    "from torchvision import transforms\n",
    "\n",
    "class MaxResize(object):\n",
    "    def __init__(self, max_size = 800):\n",
    "        self.max_size = max_size\n",
    "\n",
    "    def __call__(self, image):\n",
    "        width, height = image.size\n",
    "        current_max_size = max(width,height)\n",
    "        scale = self.max_size / current_max_size\n",
    "        resized_image = image.resize((int(round(scale*width)), int(round(scale*height))))\n",
    "\n",
    "        return resized_image\n",
    "\n",
    "detection_transform = transforms.Compose([\n",
    "    MaxResize(800),\n",
    "    transforms.ToTensor(),\n",
    "    transforms.Normalize([0.485, 0.456, 0.406], [0.229, 0.224, 0.225])\n",
    "])"
   ]
  },
  {
   "cell_type": "code",
   "execution_count": 37,
   "metadata": {},
   "outputs": [
    {
     "name": "stdout",
     "output_type": "stream",
     "text": [
      "torch.Size([1, 3, 800, 484])\n"
     ]
    }
   ],
   "source": [
    "pixelval = detection_transform(image).unsqueeze(0)\n",
    "pixelval = pixelval.to(device)\n",
    "print(pixelval.shape)\n"
   ]
  },
  {
   "cell_type": "code",
   "execution_count": 38,
   "metadata": {},
   "outputs": [],
   "source": [
    "with torch.no_grad():\n",
    "  outputs = model(pixelval)"
   ]
  },
  {
   "cell_type": "code",
   "execution_count": 27,
   "metadata": {},
   "outputs": [],
   "source": [
    "# for output bounding box post-processing\n",
    "def box_cxcywh_to_xyxy(x):\n",
    "    x_c, y_c, w, h = x.unbind(-1)\n",
    "    b = [(x_c - 0.5 * w), (y_c - 0.5 * h), (x_c + 0.5 * w), (y_c + 0.5 * h)]\n",
    "    return torch.stack(b, dim=1)\n",
    "\n",
    "\n",
    "def rescale_bboxes(out_bbox, size):\n",
    "    img_w, img_h = size\n",
    "    b = box_cxcywh_to_xyxy(out_bbox)\n",
    "    b = b * torch.tensor([img_w, img_h, img_w, img_h], dtype=torch.float32)\n",
    "    return b\n",
    "\n",
    "\n",
    "# update id2label to include \"no object\"\n",
    "id2label = model.config.id2label\n",
    "id2label[len(model.config.id2label)] = \"no object\"\n",
    "\n",
    "\n",
    "def outputs_to_objects(outputs, img_size, id2label):\n",
    "    m = outputs.logits.softmax(-1).max(-1)\n",
    "    pred_labels = list(m.indices.detach().cpu().numpy())[0]\n",
    "    pred_scores = list(m.values.detach().cpu().numpy())[0]\n",
    "    pred_bboxes = outputs['pred_boxes'].detach().cpu()[0]\n",
    "    pred_bboxes = [elem.tolist() for elem in rescale_bboxes(pred_bboxes, img_size)]\n",
    "\n",
    "    objects = []\n",
    "    for label, score, bbox in zip(pred_labels, pred_scores, pred_bboxes):\n",
    "        class_label = id2label[int(label)]\n",
    "        if not class_label == 'no object':\n",
    "            objects.append({'label': class_label, 'score': float(score),\n",
    "                            'bbox': [float(elem) for elem in bbox]})\n",
    "\n",
    "    return objects"
   ]
  },
  {
   "cell_type": "code",
   "execution_count": 35,
   "metadata": {},
   "outputs": [],
   "source": [
    "objects = outputs_to_objects(outputs, image.size, id2label)"
   ]
  },
  {
   "cell_type": "code",
   "execution_count": 36,
   "metadata": {},
   "outputs": [
    {
     "name": "stdout",
     "output_type": "stream",
     "text": [
      "[{'label': 'table', 'score': 0.9949813485145569, 'bbox': [201.7464599609375, 763.2545776367188, 1526.700439453125, 1591.6944580078125]}]\n"
     ]
    }
   ],
   "source": [
    "print(objects)"
   ]
  },
  {
   "cell_type": "markdown",
   "metadata": {},
   "source": [
    "# Try the Model with the entire output folder\n"
   ]
  },
  {
   "cell_type": "code",
   "execution_count": 11,
   "metadata": {},
   "outputs": [],
   "source": [
    "import os\n",
    "import pandas as pd\n",
    "import numpy as np\n",
    "\n",
    "directory_path = 'samples/output'\n",
    "files = []\n",
    "\n",
    "# Walk through the directory\n",
    "for dirpath, dirnames, filenames in os.walk(directory_path):\n",
    "    for filename in filenames:\n",
    "        files.append(os.path.join(dirpath, filename))\n"
   ]
  },
  {
   "cell_type": "code",
   "execution_count": 39,
   "metadata": {},
   "outputs": [],
   "source": [
    "def runModel(files):\n",
    "    file_path = []\n",
    "    score_list = []\n",
    "    for path in files:\n",
    "        image = Image.open(path).convert(\"RGB\")\n",
    "        pixelval = detection_transform(image).unsqueeze(0)\n",
    "        pixelval = pixelval.to(device)\n",
    "        with torch.no_grad():\n",
    "            outputs = model(pixelval)\n",
    "        objects = outputs_to_objects(outputs, image.size, id2label)\n",
    "        file_path.append(path)\n",
    "        score_list.append(objects)\n",
    "    data = pd.DataFrame({\"file_path\":file_path, \"score\": score_list})\n",
    "    data.to_csv(os.path.join(directory_path, \"../results.csv\"), index=False)\n",
    "    return data\n",
    "    "
   ]
  },
  {
   "cell_type": "code",
   "execution_count": 40,
   "metadata": {},
   "outputs": [
    {
     "data": {
      "text/html": [
       "<div>\n",
       "<style scoped>\n",
       "    .dataframe tbody tr th:only-of-type {\n",
       "        vertical-align: middle;\n",
       "    }\n",
       "\n",
       "    .dataframe tbody tr th {\n",
       "        vertical-align: top;\n",
       "    }\n",
       "\n",
       "    .dataframe thead th {\n",
       "        text-align: right;\n",
       "    }\n",
       "</style>\n",
       "<table border=\"1\" class=\"dataframe\">\n",
       "  <thead>\n",
       "    <tr style=\"text-align: right;\">\n",
       "      <th></th>\n",
       "      <th>file_path</th>\n",
       "      <th>score</th>\n",
       "    </tr>\n",
       "  </thead>\n",
       "  <tbody>\n",
       "    <tr>\n",
       "      <th>0</th>\n",
       "      <td>samples/output/Lipincott, 1905_page_33.png</td>\n",
       "      <td>[{'label': 'table', 'score': 0.997133970260620...</td>\n",
       "    </tr>\n",
       "    <tr>\n",
       "      <th>1</th>\n",
       "      <td>samples/output/Lipincott, 1905_page_109.png</td>\n",
       "      <td>[{'label': 'table', 'score': 0.706007897853851...</td>\n",
       "    </tr>\n",
       "    <tr>\n",
       "      <th>2</th>\n",
       "      <td>samples/output/Lipincott, 1905_page_27.png</td>\n",
       "      <td>[{'label': 'table', 'score': 0.994095444679260...</td>\n",
       "    </tr>\n",
       "    <tr>\n",
       "      <th>3</th>\n",
       "      <td>samples/output/Lipincott, 1905_page_1.png</td>\n",
       "      <td>[]</td>\n",
       "    </tr>\n",
       "    <tr>\n",
       "      <th>4</th>\n",
       "      <td>samples/output/Lipincott, 1905_page_108.png</td>\n",
       "      <td>[{'label': 'table', 'score': 0.592349767684936...</td>\n",
       "    </tr>\n",
       "    <tr>\n",
       "      <th>...</th>\n",
       "      <td>...</td>\n",
       "      <td>...</td>\n",
       "    </tr>\n",
       "    <tr>\n",
       "      <th>121</th>\n",
       "      <td>samples/output/Lipincott, 1905_page_105.png</td>\n",
       "      <td>[{'label': 'table rotated', 'score': 0.9818976...</td>\n",
       "    </tr>\n",
       "    <tr>\n",
       "      <th>122</th>\n",
       "      <td>samples/output/Lipincott, 1905_page_17.png</td>\n",
       "      <td>[]</td>\n",
       "    </tr>\n",
       "    <tr>\n",
       "      <th>123</th>\n",
       "      <td>samples/output/Lipincott, 1905_page_16.png</td>\n",
       "      <td>[{'label': 'table', 'score': 0.95307856798172,...</td>\n",
       "    </tr>\n",
       "    <tr>\n",
       "      <th>124</th>\n",
       "      <td>samples/output/Lipincott, 1905_page_110.png</td>\n",
       "      <td>[{'label': 'table rotated', 'score': 0.8847303...</td>\n",
       "    </tr>\n",
       "    <tr>\n",
       "      <th>125</th>\n",
       "      <td>samples/output/Lipincott, 1905_page_104.png</td>\n",
       "      <td>[{'label': 'table', 'score': 0.696184337139129...</td>\n",
       "    </tr>\n",
       "  </tbody>\n",
       "</table>\n",
       "<p>126 rows × 2 columns</p>\n",
       "</div>"
      ],
      "text/plain": [
       "                                       file_path  \\\n",
       "0     samples/output/Lipincott, 1905_page_33.png   \n",
       "1    samples/output/Lipincott, 1905_page_109.png   \n",
       "2     samples/output/Lipincott, 1905_page_27.png   \n",
       "3      samples/output/Lipincott, 1905_page_1.png   \n",
       "4    samples/output/Lipincott, 1905_page_108.png   \n",
       "..                                           ...   \n",
       "121  samples/output/Lipincott, 1905_page_105.png   \n",
       "122   samples/output/Lipincott, 1905_page_17.png   \n",
       "123   samples/output/Lipincott, 1905_page_16.png   \n",
       "124  samples/output/Lipincott, 1905_page_110.png   \n",
       "125  samples/output/Lipincott, 1905_page_104.png   \n",
       "\n",
       "                                                 score  \n",
       "0    [{'label': 'table', 'score': 0.997133970260620...  \n",
       "1    [{'label': 'table', 'score': 0.706007897853851...  \n",
       "2    [{'label': 'table', 'score': 0.994095444679260...  \n",
       "3                                                   []  \n",
       "4    [{'label': 'table', 'score': 0.592349767684936...  \n",
       "..                                                 ...  \n",
       "121  [{'label': 'table rotated', 'score': 0.9818976...  \n",
       "122                                                 []  \n",
       "123  [{'label': 'table', 'score': 0.95307856798172,...  \n",
       "124  [{'label': 'table rotated', 'score': 0.8847303...  \n",
       "125  [{'label': 'table', 'score': 0.696184337139129...  \n",
       "\n",
       "[126 rows x 2 columns]"
      ]
     },
     "execution_count": 40,
     "metadata": {},
     "output_type": "execute_result"
    }
   ],
   "source": [
    "runModel(files)"
   ]
  },
  {
   "cell_type": "code",
   "execution_count": null,
   "metadata": {},
   "outputs": [],
   "source": [
    "#| export\n",
    "## put functions and classes here"
   ]
  },
  {
   "cell_type": "code",
   "execution_count": null,
   "metadata": {},
   "outputs": [],
   "source": [
    "#| hide\n",
    "# Don't show this cell in the docs"
   ]
  },
  {
   "cell_type": "markdown",
   "metadata": {},
   "source": []
  },
  {
   "cell_type": "code",
   "execution_count": null,
   "metadata": {},
   "outputs": [],
   "source": [
    "#| hide\n",
    "import nbdev; nbdev.nbdev_export()"
   ]
  }
 ],
 "metadata": {
  "kernelspec": {
   "display_name": "Python 3.11.6 64-bit",
   "language": "python",
   "name": "python3"
  },
  "language_info": {
   "codemirror_mode": {
    "name": "ipython",
    "version": 3
   },
   "file_extension": ".py",
   "mimetype": "text/x-python",
   "name": "python",
   "nbconvert_exporter": "python",
   "pygments_lexer": "ipython3",
   "version": "3.11.6"
  },
  "vscode": {
   "interpreter": {
    "hash": "aee8b7b246df8f9039afb4144a1f6fd8d2ca17a180786b69acc140d282b71a49"
   }
  }
 },
 "nbformat": 4,
 "nbformat_minor": 4
}
