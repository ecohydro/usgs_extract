{
 "cells": [
  {
   "cell_type": "markdown",
   "metadata": {},
   "source": [
    "# utilities\n",
    "\n",
    "> helper functions for the pdf and table modules    "
   ]
  },
  {
   "cell_type": "code",
   "execution_count": 1,
   "metadata": {},
   "outputs": [],
   "source": [
    "#| default_exp utilities"
   ]
  },
  {
   "cell_type": "code",
   "execution_count": 2,
   "metadata": {},
   "outputs": [],
   "source": [
    "from nbdev.showdoc import *\n",
    "from fastcore.test import *\n",
    "from fastcore.utils import *"
   ]
  },
  {
   "cell_type": "code",
   "execution_count": 3,
   "metadata": {},
   "outputs": [],
   "source": [
    "#| export\n",
    "import os\n",
    "from pdf2image import convert_from_path\n",
    "#from torchvision import transforms"
   ]
  },
  {
   "cell_type": "code",
   "execution_count": 4,
   "metadata": {},
   "outputs": [],
   "source": [
    "#| export\n",
    "# Function to handle the conversion of a single page\n",
    "def convert_page(args):\n",
    "    pdf_path, output_folder, page_num = args\n",
    "    base_filename = os.path.splitext(os.path.basename(pdf_path))[0]\n",
    "    images = convert_from_path(pdf_path, first_page=page_num, last_page=page_num, dpi=300, fmt='png')\n",
    "    if images:\n",
    "        image_path = os.path.join(output_folder, f'{base_filename}_page_{page_num}.png')\n",
    "        return image_path, images[0]\n",
    "    return None\n",
    "\n",
    "def image_path_from_page(pdf_path, output_folder, page_num):\n",
    "    base_filename = os.path.splitext(os.path.basename(pdf_path))[0]\n",
    "    return os.path.join(output_folder, f'{base_filename}_page_{page_num}.png')"
   ]
  },
  {
   "cell_type": "code",
   "execution_count": 5,
   "metadata": {},
   "outputs": [],
   "source": [
    "\n",
    "# class MaxResize(object):\n",
    "#     def __init__(self, max_size=800):\n",
    "#         self.max_size = max_size\n",
    "\n",
    "#     def __call__(self, image):\n",
    "#         width, height = image.size\n",
    "#         current_max_size = max(width, height)\n",
    "#         scale = self.max_size / current_max_size\n",
    "#         resized_image = image.resize((int(round(scale*width)), int(round(scale*height))))\n",
    "\n",
    "#         return resized_image\n",
    "\n",
    "# detection_transform = transforms.Compose([\n",
    "#     MaxResize(800),\n",
    "#     transforms.ToTensor(),\n",
    "#     transforms.Normalize([0.485, 0.456, 0.406], [0.229, 0.224, 0.225])\n",
    "# ])"
   ]
  },
  {
   "cell_type": "code",
   "execution_count": 6,
   "metadata": {},
   "outputs": [
    {
     "ename": "SyntaxError",
     "evalue": "invalid syntax. Perhaps you forgot a comma? (<unknown>, line 5)",
     "output_type": "error",
     "traceback": [
      "Traceback \u001b[0;36m(most recent call last)\u001b[0m:\n",
      "\u001b[0m  File \u001b[1;32m~/mambaforge/envs/usgs_extract/lib/python3.10/site-packages/IPython/core/interactiveshell.py:3577\u001b[0m in \u001b[1;35mrun_code\u001b[0m\n    exec(code_obj, self.user_global_ns, self.user_ns)\u001b[0m\n",
      "\u001b[0m  Cell \u001b[1;32mIn[6], line 2\u001b[0m\n    import nbdev; nbdev.nbdev_export()\u001b[0m\n",
      "\u001b[0m  File \u001b[1;32m~/mambaforge/envs/usgs_extract/lib/python3.10/site-packages/fastcore/script.py:110\u001b[0m in \u001b[1;35m_f\u001b[0m\n    if not mod: return func(*args, **kwargs)\u001b[0m\n",
      "\u001b[0m  File \u001b[1;32m~/mambaforge/envs/usgs_extract/lib/python3.10/site-packages/nbdev/doclinks.py:124\u001b[0m in \u001b[1;35mnbdev_export\u001b[0m\n    _build_modidx()\u001b[0m\n",
      "\u001b[0m  File \u001b[1;32m~/mambaforge/envs/usgs_extract/lib/python3.10/site-packages/nbdev/doclinks.py:86\u001b[0m in \u001b[1;35m_build_modidx\u001b[0m\n    res['syms'].update(_get_modidx((dest.parent/file).resolve(), code_root, nbs_path=nbs_path))\u001b[0m\n",
      "\u001b[0m  File \u001b[1;32m~/mambaforge/envs/usgs_extract/lib/python3.10/site-packages/nbdev/doclinks.py:64\u001b[0m in \u001b[1;35m_get_modidx\u001b[0m\n    for tree in ast.parse('\\n'.join(rest)).body:\u001b[0m\n",
      "\u001b[0;36m  File \u001b[0;32m~/mambaforge/envs/usgs_extract/lib/python3.10/ast.py:50\u001b[0;36m in \u001b[0;35mparse\u001b[0;36m\n\u001b[0;31m    return compile(source, filename, mode, flags,\u001b[0;36m\n",
      "\u001b[0;36m  File \u001b[0;32m<unknown>:5\u001b[0;36m\u001b[0m\n\u001b[0;31m    debug:bool=False # Set to True to print debug messages\u001b[0m\n\u001b[0m               ^\u001b[0m\n\u001b[0;31mSyntaxError\u001b[0m\u001b[0;31m:\u001b[0m invalid syntax. Perhaps you forgot a comma?\n"
     ]
    }
   ],
   "source": [
    "#| hide\n",
    "import nbdev; nbdev.nbdev_export()\n"
   ]
  }
 ],
 "metadata": {
  "kernelspec": {
   "display_name": "python3",
   "language": "python",
   "name": "python3"
  },
  "language_info": {
   "codemirror_mode": {
    "name": "ipython",
    "version": 3
   },
   "file_extension": ".py",
   "mimetype": "text/x-python",
   "name": "python",
   "nbconvert_exporter": "python",
   "pygments_lexer": "ipython3",
   "version": "3.10.14"
  }
 },
 "nbformat": 4,
 "nbformat_minor": 4
}
